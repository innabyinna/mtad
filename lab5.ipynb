{
 "cells": [
  {
   "cell_type": "code",
   "execution_count": 25,
   "id": "5df30d94-3feb-4f0e-8bd1-087029c81673",
   "metadata": {},
   "outputs": [
    {
     "name": "stdout",
     "output_type": "stream",
     "text": [
      "Optimization terminated successfully.\n",
      "         Current function value: 0.290478\n",
      "         Iterations 7\n",
      "                           Logit Regression Results                           \n",
      "==============================================================================\n",
      "Dep. Variable:                      y   No. Observations:                 4521\n",
      "Model:                          Logit   Df Residuals:                     4515\n",
      "Method:                           MLE   Df Model:                            5\n",
      "Date:                Sun, 19 Oct 2025   Pseudo R-squ.:                  0.1871\n",
      "Time:                        11:56:22   Log-Likelihood:                -1313.3\n",
      "converged:                       True   LL-Null:                       -1615.5\n",
      "Covariance Type:            nonrobust   LLR p-value:                2.156e-128\n",
      "==============================================================================\n",
      "                 coef    std err          z      P>|z|      [0.025      0.975]\n",
      "------------------------------------------------------------------------------\n",
      "const         -3.7614      0.225    -16.701      0.000      -4.203      -3.320\n",
      "age            0.0135      0.005      2.880      0.004       0.004       0.023\n",
      "balance     2.384e-05   1.48e-05      1.609      0.108   -5.19e-06    5.29e-05\n",
      "duration       0.0036      0.000     20.723      0.000       0.003       0.004\n",
      "campaign      -0.0950      0.026     -3.671      0.000      -0.146      -0.044\n",
      "previous       0.1542      0.022      6.913      0.000       0.110       0.198\n",
      "==============================================================================\n",
      "\n",
      "Рівняння логістичної регресії:\n",
      "logit(p) = (-3.7614*const) + (0.0135*age) + (0.0000*balance) + (0.0036*duration) + (-0.0950*campaign) + (0.1542*previous)\n",
      "\n",
      "--- Оцінки якості моделі ---\n",
      "RSS   = 387.2176\n",
      "RMSE  = 0.2927\n",
      "RSE   = 0.2929\n",
      "R² (pseudo) = 0.1871\n",
      "\n",
      "T-статистики коефіцієнтів:\n",
      "const      -16.700519\n",
      "age          2.879818\n",
      "balance      1.609400\n",
      "duration    20.722540\n",
      "campaign    -3.670912\n",
      "previous     6.913405\n",
      "dtype: float64\n",
      "\n",
      "Матриця плутанини:\n"
     ]
    },
    {
     "name": "stderr",
     "output_type": "stream",
     "text": [
      "C:\\Users\\anon\\AppData\\Local\\Temp\\ipykernel_5572\\4282969808.py:29: FutureWarning: Series.__getitem__ treating keys as positions is deprecated. In a future version, integer keys will always be treated as labels (consistent with DataFrame behavior). To access a value by position, use `ser.iloc[pos]`\n",
      "  equation = \"logit(p) = \" + \" + \".join([f\"({coeffs[i]:.4f}*{X.columns[i]})\" for i in range(len(coeffs))])\n"
     ]
    },
    {
     "name": "stdout",
     "output_type": "stream",
     "text": [
      "[[3925   75]\n",
      " [ 441   80]]\n",
      "\n",
      "Звіт класифікації:\n",
      "              precision    recall  f1-score   support\n",
      "\n",
      "           0       0.90      0.98      0.94      4000\n",
      "           1       0.52      0.15      0.24       521\n",
      "\n",
      "    accuracy                           0.89      4521\n",
      "   macro avg       0.71      0.57      0.59      4521\n",
      "weighted avg       0.85      0.89      0.86      4521\n",
      "\n"
     ]
    },
    {
     "data": {
      "image/png": "[encoded data removed]",
      "text/plain": [
       "<Figure size 640x480 with 1 Axes>"
      ]
     },
     "metadata": {},
     "output_type": "display_data"
    },
    {
     "name": "stdout",
     "output_type": "stream",
     "text": [
      "\n",
      "Прогноз (ймовірність відповіді 'yes') на 3 кроки вперед:\n",
      "4518   0.030132\n",
      "4519   0.058376\n",
      "4520   0.276286\n",
      "dtype: float64\n"
     ]
    }
   ],
   "source": [
    "# --- 1. Імпорт бібліотек ---\n",
    "import pandas as pd\n",
    "import numpy as np\n",
    "import statsmodels.api as sm\n",
    "import matplotlib.pyplot as plt\n",
    "import seaborn as sns\n",
    "from sklearn.metrics import mean_squared_error, confusion_matrix, classification_report\n",
    "\n",
    "# --- 2. Завантаження даних ---\n",
    "df = pd.read_csv(\"C:/Users/anon/Desktop/mtad/bank.csv\", sep=';')\n",
    "\n",
    "# --- 3. Кодування цільової змінної ---\n",
    "df['y'] = df['y'].map({'yes': 1, 'no': 0})\n",
    "\n",
    "# --- 4. Вибираємо числові змінні ---\n",
    "num_cols = ['age', 'balance', 'duration', 'campaign', 'previous']\n",
    "X = df[num_cols]\n",
    "y = df['y']\n",
    "\n",
    "# --- 5. Додаємо константу ---\n",
    "X = sm.add_constant(X)\n",
    "\n",
    "# --- 6. Логістична регресія ---\n",
    "log_model = sm.Logit(y, X).fit()\n",
    "print(log_model.summary())\n",
    "\n",
    "# --- 7. Отримаємо коефіцієнти ---\n",
    "coeffs = log_model.params\n",
    "equation = \"logit(p) = \" + \" + \".join([f\"({coeffs[i]:.4f}*{X.columns[i]})\" for i in range(len(coeffs))])\n",
    "print(\"\\nРівняння логістичної регресії:\")\n",
    "print(equation)\n",
    "\n",
    "# --- 8. Прогнози ---\n",
    "y_pred_prob = log_model.predict(X)\n",
    "y_pred = (y_pred_prob >= 0.5).astype(int)\n",
    "\n",
    "# --- 9. Метрики моделі ---\n",
    "# RSS та RMSE\n",
    "RSS = np.sum((y - y_pred_prob)**2)\n",
    "RMSE = np.sqrt(mean_squared_error(y, y_pred_prob))\n",
    "\n",
    "# RSE (Residual Standard Error)\n",
    "n = X.shape[0]        # кількість спостережень\n",
    "k = X.shape[1] - 1    # кількість предикторів без константи\n",
    "RSE = np.sqrt(RSS / (n - k - 1))\n",
    "\n",
    "# Псевдо R²\n",
    "R2_pseudo = log_model.prsquared\n",
    "\n",
    "# T-статистики коефіцієнтів\n",
    "t_values = log_model.tvalues\n",
    "\n",
    "# --- Вивід метрик ---\n",
    "print(\"\\n--- Оцінки якості моделі ---\")\n",
    "print(f\"RSS   = {RSS:.4f}\")\n",
    "print(f\"RMSE  = {RMSE:.4f}\")\n",
    "print(f\"RSE   = {RSE:.4f}\")\n",
    "print(f\"R² (pseudo) = {R2_pseudo:.4f}\")\n",
    "print(\"\\nT-статистики коефіцієнтів:\")\n",
    "print(t_values)\n",
    "\n",
    "# --- 10. Оцінка класифікації ---\n",
    "print(\"\\nМатриця плутанини:\")\n",
    "print(confusion_matrix(y, y_pred))\n",
    "print(\"\\nЗвіт класифікації:\")\n",
    "print(classification_report(y, y_pred))\n",
    "\n",
    "# --- 11. Візуалізація логістичної кривої за однією змінною ---\n",
    "sns.regplot(x='age', y='y', data=df, logistic=True, ci=None,\n",
    "            scatter_kws={'alpha':0.4}, line_kws={'color':'red'})\n",
    "plt.title('Логістична регресія: залежність ймовірності від віку')\n",
    "plt.xlabel('Вік')\n",
    "plt.ylabel('Ймовірність відповіді \"yes\"')\n",
    "plt.show()\n",
    "\n",
    "# --- 12. Прогноз на 3 кроки вперед ---\n",
    "future = X.tail(3).copy()\n",
    "future['age'] += [1, 2, 3]\n",
    "pred_future = log_model.predict(future)\n",
    "print(\"\\nПрогноз (ймовірність відповіді 'yes') на 3 кроки вперед:\")\n",
    "print(pred_future)\n"
   ]
  },
  {
   "cell_type": "code",
   "execution_count": null,
   "id": "2d1d2548-c0cc-4035-b2ab-8d716dd66859",
   "metadata": {},
   "outputs": [],
   "source": []
  },
  {
   "cell_type": "code",
   "execution_count": null,
   "id": "10ed7278-f2ac-45e5-b302-d74659d8cfac",
   "metadata": {},
   "outputs": [],
   "source": []
  }
 ],
 "metadata": {
  "kernelspec": {
   "display_name": "Python 3 (ipykernel)",
   "language": "python",
   "name": "python3"
  },
  "language_info": {
   "codemirror_mode": {
    "name": "ipython",
    "version": 3
   },
   "file_extension": ".py",
   "mimetype": "text/x-python",
   "name": "python",
   "nbconvert_exporter": "python",
   "pygments_lexer": "ipython3",
   "version": "3.11.2"
  }
 },
 "nbformat": 4,
 "nbformat_minor": 5
}
